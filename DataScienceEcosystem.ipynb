{
 "cells": [
  {
   "cell_type": "markdown",
   "id": "cc2701e7",
   "metadata": {},
   "source": [
    "# Data Science Tools and Ecosystem"
   ]
  },
  {
   "cell_type": "markdown",
   "id": "2456a6d7",
   "metadata": {},
   "source": [
    "In this notebook, Data Science Tools and Ecosystem are summarized.\n"
   ]
  },
  {
   "cell_type": "markdown",
   "id": "6e4e8a3b",
   "metadata": {},
   "source": [
    "Some of the popular languages that Data Scientists use are:\n",
    "1. Python\n",
    "2. R\n",
    "3. Julia\n",
    "4. SQL"
   ]
  },
  {
   "cell_type": "markdown",
   "id": "f29adde3",
   "metadata": {},
   "source": [
    "Some of the commonly used libraries used by Data Scientists include:\n",
    "1. TensorFlow (Keras)\n",
    "2. matplotlib\n",
    "3. Seaborn\n",
    "4. Numpy\n",
    "5. plotly\n",
    "6. Scikit Learn\n",
    "7. caret\n",
    "8. ggplot2\n",
    "9. stringr"
   ]
  },
  {
   "cell_type": "markdown",
   "id": "77aeefb3",
   "metadata": {},
   "source": [
    "| Data Science Tools    |\n",
    "|-----------------------|\n",
    "| Jupyter Notebook      |\n",
    "| RStudio               |\n",
    "| Github                |\n",
    "| SQL                   |\n"
   ]
  },
  {
   "cell_type": "markdown",
   "id": "a8e6f12f",
   "metadata": {},
   "source": [
    "### Below are a few examples of evaluating arithmetic expressions in Python.\n"
   ]
  },
  {
   "cell_type": "code",
   "execution_count": 2,
   "id": "628565a2",
   "metadata": {},
   "outputs": [
    {
     "data": {
      "text/plain": [
       "17"
      ]
     },
     "execution_count": 2,
     "metadata": {},
     "output_type": "execute_result"
    }
   ],
   "source": [
    "(3*4)+5\n",
    "#This a simple arithmetic expression \n",
    "#to mutiply then add integers.\n"
   ]
  },
  {
   "cell_type": "code",
   "execution_count": 4,
   "id": "e501090f",
   "metadata": {},
   "outputs": [
    {
     "data": {
      "text/plain": [
       "3.3333333333333335"
      ]
     },
     "execution_count": 4,
     "metadata": {},
     "output_type": "execute_result"
    }
   ],
   "source": [
    "def mins_to_hours(minutes):\n",
    "    return float(minutes/60)\n",
    "#This will convert 200 minutes to hours \n",
    "#by diving by 60.\n",
    "mins_to_hours(200)"
   ]
  },
  {
   "cell_type": "markdown",
   "id": "eccbed8d",
   "metadata": {},
   "source": [
    "**Objectives:**\n",
    "- Listing popular languages for Data Science\n",
    "- Listing commonly used Data Science libraries\n",
    "- Stating diffrent Data Science tools\n",
    "- Showing how arithmetic expressions performed in jupyter notebook\n",
    "- Writing a funtion converting minutes to hours"
   ]
  },
  {
   "cell_type": "markdown",
   "id": "a5a8c515",
   "metadata": {},
   "source": [
    "## Author \n",
    "Abylaikhan A. Zh."
   ]
  },
  {
   "cell_type": "code",
   "execution_count": null,
   "id": "16fab68d",
   "metadata": {},
   "outputs": [],
   "source": []
  },
  {
   "cell_type": "code",
   "execution_count": null,
   "id": "ee277165",
   "metadata": {},
   "outputs": [],
   "source": []
  }
 ],
 "metadata": {
  "kernelspec": {
   "display_name": "Python 3 (ipykernel)",
   "language": "python",
   "name": "python3"
  },
  "language_info": {
   "codemirror_mode": {
    "name": "ipython",
    "version": 3
   },
   "file_extension": ".py",
   "mimetype": "text/x-python",
   "name": "python",
   "nbconvert_exporter": "python",
   "pygments_lexer": "ipython3",
   "version": "3.8.16"
  }
 },
 "nbformat": 4,
 "nbformat_minor": 5
}
